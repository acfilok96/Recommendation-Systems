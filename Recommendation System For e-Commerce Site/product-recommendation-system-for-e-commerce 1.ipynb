{
 "cells": [
  {
   "cell_type": "markdown",
   "id": "1316b393",
   "metadata": {},
   "source": [
    "The Recommendation system, here designed below is based on \n",
    "the journey of a new customer from the time first he/she \n",
    "lands on the business's website for the first time to when he/she makes repeat purchases.\n",
    "\n",
    "The recommendation system with three part on the business context.\n",
    "\n",
    "**Recommendation System Part - I** : Product popularity based system targetted on new customers.\n",
    "\n",
    "**Recommendation System Part - II** : Model-based collaborative filtering system based on custome's purchase\n",
    "history and rating provided by other users who bought items \n",
    "similar items.\n",
    "\n",
    "**Recommendation System part - III** : When a business is setting up its e-cmmerce website for the first time without any product rating.\n",
    "\n",
    "When a new customer without any previous purchase history \n",
    "visits the e-commmerce website for the first time, he/she \n",
    "is recommended the most popular products sold on the company's website. Once, he/she makes a purchase, the \n",
    "recommendation system updates and recommends other products based on the purchase history and rating provided\n",
    "by other users on the website. The latter part is done using collaborative filtering techniques."
   ]
  },
  {
   "cell_type": "markdown",
   "id": "17ea7a42",
   "metadata": {},
   "source": [
    "### **Recommendation System Part - I**"
   ]
  },
  {
   "cell_type": "markdown",
   "id": "d4c34757",
   "metadata": {},
   "source": [
    "Popularity Based are a great strategy to target the new \n",
    "customers with the most popular products sold on a \n",
    "business's website and is very useful to sold \n",
    "start a recommendation engine.\n"
   ]
  },
  {
   "cell_type": "code",
   "execution_count": 69,
   "id": "afcfef8f",
   "metadata": {},
   "outputs": [
    {
     "name": "stdout",
     "output_type": "stream",
     "text": [
      "['.ipynb_checkpoints', 'product-recommendation-system-for-e-commerce 1.ipynb', 'product_descriptions.csv', 'ratings_Beauty.csv']\n"
     ]
    }
   ],
   "source": [
    "import os\n",
    "print(os.listdir())"
   ]
  },
  {
   "cell_type": "code",
   "execution_count": 70,
   "id": "574d34ed",
   "metadata": {},
   "outputs": [],
   "source": [
    "import pandas as pd\n",
    "import numpy as np\n",
    "import matplotlib.pyplot as plt"
   ]
  },
  {
   "cell_type": "code",
   "execution_count": 71,
   "id": "a9d1f15b",
   "metadata": {},
   "outputs": [
    {
     "data": {
      "text/html": [
       "<div>\n",
       "<style scoped>\n",
       "    .dataframe tbody tr th:only-of-type {\n",
       "        vertical-align: middle;\n",
       "    }\n",
       "\n",
       "    .dataframe tbody tr th {\n",
       "        vertical-align: top;\n",
       "    }\n",
       "\n",
       "    .dataframe thead th {\n",
       "        text-align: right;\n",
       "    }\n",
       "</style>\n",
       "<table border=\"1\" class=\"dataframe\">\n",
       "  <thead>\n",
       "    <tr style=\"text-align: right;\">\n",
       "      <th></th>\n",
       "      <th>UserId</th>\n",
       "      <th>ProductId</th>\n",
       "      <th>Rating</th>\n",
       "      <th>Timestamp</th>\n",
       "    </tr>\n",
       "  </thead>\n",
       "  <tbody>\n",
       "    <tr>\n",
       "      <th>0</th>\n",
       "      <td>A39HTATAQ9V7YF</td>\n",
       "      <td>0205616461</td>\n",
       "      <td>5.0</td>\n",
       "      <td>1369699200</td>\n",
       "    </tr>\n",
       "    <tr>\n",
       "      <th>1</th>\n",
       "      <td>A3JM6GV9MNOF9X</td>\n",
       "      <td>0558925278</td>\n",
       "      <td>3.0</td>\n",
       "      <td>1355443200</td>\n",
       "    </tr>\n",
       "  </tbody>\n",
       "</table>\n",
       "</div>"
      ],
      "text/plain": [
       "           UserId   ProductId  Rating   Timestamp\n",
       "0  A39HTATAQ9V7YF  0205616461     5.0  1369699200\n",
       "1  A3JM6GV9MNOF9X  0558925278     3.0  1355443200"
      ]
     },
     "execution_count": 71,
     "metadata": {},
     "output_type": "execute_result"
    }
   ],
   "source": [
    "amazon_ratings = pd.read_csv('ratings_Beauty.csv')\n",
    "amazon_ratings.head(2)"
   ]
  },
  {
   "cell_type": "code",
   "execution_count": 72,
   "id": "84b11d78",
   "metadata": {},
   "outputs": [
    {
     "name": "stdout",
     "output_type": "stream",
     "text": [
      "<class 'pandas.core.frame.DataFrame'>\n",
      "RangeIndex: 2023070 entries, 0 to 2023069\n",
      "Data columns (total 4 columns):\n",
      " #   Column     Dtype  \n",
      "---  ------     -----  \n",
      " 0   UserId     object \n",
      " 1   ProductId  object \n",
      " 2   Rating     float64\n",
      " 3   Timestamp  int64  \n",
      "dtypes: float64(1), int64(1), object(2)\n",
      "memory usage: 61.7+ MB\n"
     ]
    }
   ],
   "source": [
    "amazon_ratings.info()"
   ]
  },
  {
   "cell_type": "code",
   "execution_count": 73,
   "id": "fb72b73d",
   "metadata": {},
   "outputs": [
    {
     "data": {
      "text/plain": [
       "UserId       0\n",
       "ProductId    0\n",
       "Rating       0\n",
       "Timestamp    0\n",
       "dtype: int64"
      ]
     },
     "execution_count": 73,
     "metadata": {},
     "output_type": "execute_result"
    }
   ],
   "source": [
    "amazon_ratings.isnull().sum()"
   ]
  },
  {
   "cell_type": "code",
   "execution_count": 74,
   "id": "91d3127e",
   "metadata": {},
   "outputs": [
    {
     "name": "stdout",
     "output_type": "stream",
     "text": [
      "(2023070, 4)\n"
     ]
    }
   ],
   "source": [
    "print(amazon_ratings.shape)"
   ]
  },
  {
   "cell_type": "code",
   "execution_count": 75,
   "id": "8fb82276",
   "metadata": {},
   "outputs": [
    {
     "data": {
      "text/html": [
       "<div>\n",
       "<style scoped>\n",
       "    .dataframe tbody tr th:only-of-type {\n",
       "        vertical-align: middle;\n",
       "    }\n",
       "\n",
       "    .dataframe tbody tr th {\n",
       "        vertical-align: top;\n",
       "    }\n",
       "\n",
       "    .dataframe thead th {\n",
       "        text-align: right;\n",
       "    }\n",
       "</style>\n",
       "<table border=\"1\" class=\"dataframe\">\n",
       "  <thead>\n",
       "    <tr style=\"text-align: right;\">\n",
       "      <th></th>\n",
       "      <th>Rating</th>\n",
       "    </tr>\n",
       "    <tr>\n",
       "      <th>ProductId</th>\n",
       "      <th></th>\n",
       "    </tr>\n",
       "  </thead>\n",
       "  <tbody>\n",
       "    <tr>\n",
       "      <th>0205616461</th>\n",
       "      <td>1</td>\n",
       "    </tr>\n",
       "    <tr>\n",
       "      <th>0558925278</th>\n",
       "      <td>2</td>\n",
       "    </tr>\n",
       "    <tr>\n",
       "      <th>0733001998</th>\n",
       "      <td>1</td>\n",
       "    </tr>\n",
       "    <tr>\n",
       "      <th>0737104473</th>\n",
       "      <td>1</td>\n",
       "    </tr>\n",
       "    <tr>\n",
       "      <th>0762451459</th>\n",
       "      <td>1</td>\n",
       "    </tr>\n",
       "    <tr>\n",
       "      <th>1304139212</th>\n",
       "      <td>1</td>\n",
       "    </tr>\n",
       "    <tr>\n",
       "      <th>1304139220</th>\n",
       "      <td>1</td>\n",
       "    </tr>\n",
       "    <tr>\n",
       "      <th>130414089X</th>\n",
       "      <td>1</td>\n",
       "    </tr>\n",
       "    <tr>\n",
       "      <th>130414643X</th>\n",
       "      <td>3</td>\n",
       "    </tr>\n",
       "    <tr>\n",
       "      <th>1304146537</th>\n",
       "      <td>1</td>\n",
       "    </tr>\n",
       "    <tr>\n",
       "      <th>130414674X</th>\n",
       "      <td>1</td>\n",
       "    </tr>\n",
       "    <tr>\n",
       "      <th>1304168522</th>\n",
       "      <td>2</td>\n",
       "    </tr>\n",
       "    <tr>\n",
       "      <th>1304174778</th>\n",
       "      <td>2</td>\n",
       "    </tr>\n",
       "    <tr>\n",
       "      <th>1304174867</th>\n",
       "      <td>2</td>\n",
       "    </tr>\n",
       "    <tr>\n",
       "      <th>1304174905</th>\n",
       "      <td>1</td>\n",
       "    </tr>\n",
       "    <tr>\n",
       "      <th>1304196046</th>\n",
       "      <td>1</td>\n",
       "    </tr>\n",
       "    <tr>\n",
       "      <th>1304196062</th>\n",
       "      <td>1</td>\n",
       "    </tr>\n",
       "    <tr>\n",
       "      <th>1304196070</th>\n",
       "      <td>1</td>\n",
       "    </tr>\n",
       "    <tr>\n",
       "      <th>1304196135</th>\n",
       "      <td>2</td>\n",
       "    </tr>\n",
       "    <tr>\n",
       "      <th>1304351475</th>\n",
       "      <td>16</td>\n",
       "    </tr>\n",
       "  </tbody>\n",
       "</table>\n",
       "</div>"
      ],
      "text/plain": [
       "            Rating\n",
       "ProductId         \n",
       "0205616461       1\n",
       "0558925278       2\n",
       "0733001998       1\n",
       "0737104473       1\n",
       "0762451459       1\n",
       "1304139212       1\n",
       "1304139220       1\n",
       "130414089X       1\n",
       "130414643X       3\n",
       "1304146537       1\n",
       "130414674X       1\n",
       "1304168522       2\n",
       "1304174778       2\n",
       "1304174867       2\n",
       "1304174905       1\n",
       "1304196046       1\n",
       "1304196062       1\n",
       "1304196070       1\n",
       "1304196135       2\n",
       "1304351475      16"
      ]
     },
     "execution_count": 75,
     "metadata": {},
     "output_type": "execute_result"
    }
   ],
   "source": [
    "popular_products = pd.DataFrame(amazon_ratings.groupby('ProductId')['Rating'].count())\n",
    "popular_products.head(20)"
   ]
  },
  {
   "cell_type": "code",
   "execution_count": 76,
   "id": "7e6e2548",
   "metadata": {},
   "outputs": [
    {
     "data": {
      "text/html": [
       "<div>\n",
       "<style scoped>\n",
       "    .dataframe tbody tr th:only-of-type {\n",
       "        vertical-align: middle;\n",
       "    }\n",
       "\n",
       "    .dataframe tbody tr th {\n",
       "        vertical-align: top;\n",
       "    }\n",
       "\n",
       "    .dataframe thead th {\n",
       "        text-align: right;\n",
       "    }\n",
       "</style>\n",
       "<table border=\"1\" class=\"dataframe\">\n",
       "  <thead>\n",
       "    <tr style=\"text-align: right;\">\n",
       "      <th></th>\n",
       "      <th>Rating</th>\n",
       "    </tr>\n",
       "    <tr>\n",
       "      <th>ProductId</th>\n",
       "      <th></th>\n",
       "    </tr>\n",
       "  </thead>\n",
       "  <tbody>\n",
       "    <tr>\n",
       "      <th>B001MA0QY2</th>\n",
       "      <td>7533</td>\n",
       "    </tr>\n",
       "    <tr>\n",
       "      <th>B0009V1YR8</th>\n",
       "      <td>2869</td>\n",
       "    </tr>\n",
       "    <tr>\n",
       "      <th>B0043OYFKU</th>\n",
       "      <td>2477</td>\n",
       "    </tr>\n",
       "    <tr>\n",
       "      <th>B0000YUXI0</th>\n",
       "      <td>2143</td>\n",
       "    </tr>\n",
       "    <tr>\n",
       "      <th>B003V265QW</th>\n",
       "      <td>2088</td>\n",
       "    </tr>\n",
       "    <tr>\n",
       "      <th>B000ZMBSPE</th>\n",
       "      <td>2041</td>\n",
       "    </tr>\n",
       "    <tr>\n",
       "      <th>B003BQ6QXK</th>\n",
       "      <td>1918</td>\n",
       "    </tr>\n",
       "    <tr>\n",
       "      <th>B004OHQR1Q</th>\n",
       "      <td>1885</td>\n",
       "    </tr>\n",
       "    <tr>\n",
       "      <th>B00121UVU0</th>\n",
       "      <td>1838</td>\n",
       "    </tr>\n",
       "    <tr>\n",
       "      <th>B000FS05VG</th>\n",
       "      <td>1589</td>\n",
       "    </tr>\n",
       "    <tr>\n",
       "      <th>B000142FVW</th>\n",
       "      <td>1558</td>\n",
       "    </tr>\n",
       "    <tr>\n",
       "      <th>B0046VGPHQ</th>\n",
       "      <td>1475</td>\n",
       "    </tr>\n",
       "    <tr>\n",
       "      <th>B001JKTTVQ</th>\n",
       "      <td>1468</td>\n",
       "    </tr>\n",
       "    <tr>\n",
       "      <th>B004INUWX0</th>\n",
       "      <td>1430</td>\n",
       "    </tr>\n",
       "    <tr>\n",
       "      <th>B000TKH6G2</th>\n",
       "      <td>1379</td>\n",
       "    </tr>\n",
       "    <tr>\n",
       "      <th>B0048O2R1E</th>\n",
       "      <td>1349</td>\n",
       "    </tr>\n",
       "    <tr>\n",
       "      <th>B00150LT40</th>\n",
       "      <td>1349</td>\n",
       "    </tr>\n",
       "    <tr>\n",
       "      <th>B003S516XO</th>\n",
       "      <td>1347</td>\n",
       "    </tr>\n",
       "    <tr>\n",
       "      <th>B00188IFHS</th>\n",
       "      <td>1341</td>\n",
       "    </tr>\n",
       "    <tr>\n",
       "      <th>B0056GDG90</th>\n",
       "      <td>1333</td>\n",
       "    </tr>\n",
       "  </tbody>\n",
       "</table>\n",
       "</div>"
      ],
      "text/plain": [
       "            Rating\n",
       "ProductId         \n",
       "B001MA0QY2    7533\n",
       "B0009V1YR8    2869\n",
       "B0043OYFKU    2477\n",
       "B0000YUXI0    2143\n",
       "B003V265QW    2088\n",
       "B000ZMBSPE    2041\n",
       "B003BQ6QXK    1918\n",
       "B004OHQR1Q    1885\n",
       "B00121UVU0    1838\n",
       "B000FS05VG    1589\n",
       "B000142FVW    1558\n",
       "B0046VGPHQ    1475\n",
       "B001JKTTVQ    1468\n",
       "B004INUWX0    1430\n",
       "B000TKH6G2    1379\n",
       "B0048O2R1E    1349\n",
       "B00150LT40    1349\n",
       "B003S516XO    1347\n",
       "B00188IFHS    1341\n",
       "B0056GDG90    1333"
      ]
     },
     "execution_count": 76,
     "metadata": {},
     "output_type": "execute_result"
    }
   ],
   "source": [
    "most_popular = popular_products.sort_values('Rating', ascending=False)\n",
    "most_popular.head(20)"
   ]
  },
  {
   "cell_type": "code",
   "execution_count": 77,
   "id": "8a8aa781",
   "metadata": {},
   "outputs": [
    {
     "data": {
      "image/png": "[encoded data removed]",
      "text/plain": [
       "<Figure size 432x288 with 1 Axes>"
      ]
     },
     "metadata": {
      "needs_background": "light"
     },
     "output_type": "display_data"
    }
   ],
   "source": [
    "most_popular.head(30).plot(kind='bar')\n",
    "plt.show()"
   ]
  },
  {
   "cell_type": "markdown",
   "id": "f234890a",
   "metadata": {},
   "source": [
    "The above graph gives the most popular products\n",
    "(arranged in descending order) sold by the business.\n",
    "\n",
    "For example, product ID #B001MA0QY2 has sales of over 7000\n",
    "and the next most popular product ID #B0009V1YR8 has sales \n",
    "of 3000, etc."
   ]
  },
  {
   "cell_type": "markdown",
   "id": "50437e37",
   "metadata": {},
   "source": [
    "### **Recommendation System Part - II**"
   ]
  },
  {
   "cell_type": "markdown",
   "id": "379c6c89",
   "metadata": {},
   "source": [
    "#### **Model-based collaborative filtering system**\n",
    "\n",
    "Recommendation items to users based on purchase history\n",
    "and ratings provided by other users who bought items to\n",
    "that of a particular customer.\n",
    "\n",
    "A model based collaborative filtering technique is closen \n",
    "here as it helps in making predecting products for a particular user by identifying patterns based on preferences from multiple user data.\n",
    "\n",
    "#### **Utility matrix based on products sold and user reviews**\n",
    "\n",
    "**Utility Matrix** : An utility matrix is consists of all\n",
    "possible user-item preferences(rating) details represented\n",
    "as a matrix. The utility matrix is sprace as none of the users would buy all the items in the list, hence, most of the values are unknown.\n"
   ]
  },
  {
   "cell_type": "code",
   "execution_count": 78,
   "id": "317ec1e1",
   "metadata": {},
   "outputs": [],
   "source": [
    "amazon_ratings_1 = amazon_ratings.head(10000)"
   ]
  },
  {
   "cell_type": "code",
   "execution_count": 79,
   "id": "207cb1b2",
   "metadata": {},
   "outputs": [
    {
     "name": "stdout",
     "output_type": "stream",
     "text": [
      "<class 'pandas.core.frame.DataFrame'>\n",
      "RangeIndex: 10000 entries, 0 to 9999\n",
      "Data columns (total 4 columns):\n",
      " #   Column     Non-Null Count  Dtype  \n",
      "---  ------     --------------  -----  \n",
      " 0   UserId     10000 non-null  object \n",
      " 1   ProductId  10000 non-null  object \n",
      " 2   Rating     10000 non-null  float64\n",
      " 3   Timestamp  10000 non-null  int64  \n",
      "dtypes: float64(1), int64(1), object(2)\n",
      "memory usage: 312.6+ KB\n"
     ]
    }
   ],
   "source": [
    "amazon_ratings_1.info()"
   ]
  },
  {
   "cell_type": "code",
   "execution_count": 80,
   "id": "63450553",
   "metadata": {},
   "outputs": [
    {
     "data": {
      "text/html": [
       "<div>\n",
       "<style scoped>\n",
       "    .dataframe tbody tr th:only-of-type {\n",
       "        vertical-align: middle;\n",
       "    }\n",
       "\n",
       "    .dataframe tbody tr th {\n",
       "        vertical-align: top;\n",
       "    }\n",
       "\n",
       "    .dataframe thead th {\n",
       "        text-align: right;\n",
       "    }\n",
       "</style>\n",
       "<table border=\"1\" class=\"dataframe\">\n",
       "  <thead>\n",
       "    <tr style=\"text-align: right;\">\n",
       "      <th>ProductId</th>\n",
       "      <th>0205616461</th>\n",
       "      <th>0558925278</th>\n",
       "      <th>0733001998</th>\n",
       "      <th>0737104473</th>\n",
       "      <th>0762451459</th>\n",
       "      <th>1304139212</th>\n",
       "      <th>1304139220</th>\n",
       "      <th>130414089X</th>\n",
       "      <th>130414643X</th>\n",
       "      <th>1304146537</th>\n",
       "      <th>...</th>\n",
       "      <th>B000052YPE</th>\n",
       "      <th>B000052YPF</th>\n",
       "      <th>B000052YPG</th>\n",
       "      <th>B000052YPH</th>\n",
       "      <th>B000052YPM</th>\n",
       "      <th>B000052YPU</th>\n",
       "      <th>B000052YPV</th>\n",
       "      <th>B000052YPY</th>\n",
       "      <th>B000052YQ0</th>\n",
       "      <th>B000052YQ2</th>\n",
       "    </tr>\n",
       "    <tr>\n",
       "      <th>UserId</th>\n",
       "      <th></th>\n",
       "      <th></th>\n",
       "      <th></th>\n",
       "      <th></th>\n",
       "      <th></th>\n",
       "      <th></th>\n",
       "      <th></th>\n",
       "      <th></th>\n",
       "      <th></th>\n",
       "      <th></th>\n",
       "      <th></th>\n",
       "      <th></th>\n",
       "      <th></th>\n",
       "      <th></th>\n",
       "      <th></th>\n",
       "      <th></th>\n",
       "      <th></th>\n",
       "      <th></th>\n",
       "      <th></th>\n",
       "      <th></th>\n",
       "      <th></th>\n",
       "    </tr>\n",
       "  </thead>\n",
       "  <tbody>\n",
       "    <tr>\n",
       "      <th>A00205921JHJK5X9LNP42</th>\n",
       "      <td>0</td>\n",
       "      <td>0</td>\n",
       "      <td>0</td>\n",
       "      <td>0</td>\n",
       "      <td>0</td>\n",
       "      <td>0</td>\n",
       "      <td>0</td>\n",
       "      <td>0</td>\n",
       "      <td>0</td>\n",
       "      <td>0</td>\n",
       "      <td>...</td>\n",
       "      <td>0</td>\n",
       "      <td>0</td>\n",
       "      <td>0</td>\n",
       "      <td>0</td>\n",
       "      <td>0</td>\n",
       "      <td>0</td>\n",
       "      <td>0</td>\n",
       "      <td>0</td>\n",
       "      <td>0</td>\n",
       "      <td>0</td>\n",
       "    </tr>\n",
       "    <tr>\n",
       "      <th>A024581134CV80ZBLIZTZ</th>\n",
       "      <td>0</td>\n",
       "      <td>0</td>\n",
       "      <td>0</td>\n",
       "      <td>0</td>\n",
       "      <td>0</td>\n",
       "      <td>0</td>\n",
       "      <td>0</td>\n",
       "      <td>0</td>\n",
       "      <td>0</td>\n",
       "      <td>0</td>\n",
       "      <td>...</td>\n",
       "      <td>0</td>\n",
       "      <td>0</td>\n",
       "      <td>0</td>\n",
       "      <td>0</td>\n",
       "      <td>0</td>\n",
       "      <td>0</td>\n",
       "      <td>0</td>\n",
       "      <td>0</td>\n",
       "      <td>0</td>\n",
       "      <td>0</td>\n",
       "    </tr>\n",
       "    <tr>\n",
       "      <th>A03056581JJIOL5FSKJY7</th>\n",
       "      <td>0</td>\n",
       "      <td>0</td>\n",
       "      <td>0</td>\n",
       "      <td>0</td>\n",
       "      <td>0</td>\n",
       "      <td>0</td>\n",
       "      <td>0</td>\n",
       "      <td>0</td>\n",
       "      <td>0</td>\n",
       "      <td>0</td>\n",
       "      <td>...</td>\n",
       "      <td>0</td>\n",
       "      <td>0</td>\n",
       "      <td>0</td>\n",
       "      <td>0</td>\n",
       "      <td>0</td>\n",
       "      <td>0</td>\n",
       "      <td>0</td>\n",
       "      <td>0</td>\n",
       "      <td>0</td>\n",
       "      <td>0</td>\n",
       "    </tr>\n",
       "  </tbody>\n",
       "</table>\n",
       "<p>3 rows × 886 columns</p>\n",
       "</div>"
      ],
      "text/plain": [
       "ProductId              0205616461  0558925278  0733001998  0737104473  \\\n",
       "UserId                                                                  \n",
       "A00205921JHJK5X9LNP42           0           0           0           0   \n",
       "A024581134CV80ZBLIZTZ           0           0           0           0   \n",
       "A03056581JJIOL5FSKJY7           0           0           0           0   \n",
       "\n",
       "ProductId              0762451459  1304139212  1304139220  130414089X  \\\n",
       "UserId                                                                  \n",
       "A00205921JHJK5X9LNP42           0           0           0           0   \n",
       "A024581134CV80ZBLIZTZ           0           0           0           0   \n",
       "A03056581JJIOL5FSKJY7           0           0           0           0   \n",
       "\n",
       "ProductId              130414643X  1304146537  ...  B000052YPE  B000052YPF  \\\n",
       "UserId                                         ...                           \n",
       "A00205921JHJK5X9LNP42           0           0  ...           0           0   \n",
       "A024581134CV80ZBLIZTZ           0           0  ...           0           0   \n",
       "A03056581JJIOL5FSKJY7           0           0  ...           0           0   \n",
       "\n",
       "ProductId              B000052YPG  B000052YPH  B000052YPM  B000052YPU  \\\n",
       "UserId                                                                  \n",
       "A00205921JHJK5X9LNP42           0           0           0           0   \n",
       "A024581134CV80ZBLIZTZ           0           0           0           0   \n",
       "A03056581JJIOL5FSKJY7           0           0           0           0   \n",
       "\n",
       "ProductId              B000052YPV  B000052YPY  B000052YQ0  B000052YQ2  \n",
       "UserId                                                                 \n",
       "A00205921JHJK5X9LNP42           0           0           0           0  \n",
       "A024581134CV80ZBLIZTZ           0           0           0           0  \n",
       "A03056581JJIOL5FSKJY7           0           0           0           0  \n",
       "\n",
       "[3 rows x 886 columns]"
      ]
     },
     "execution_count": 80,
     "metadata": {},
     "output_type": "execute_result"
    }
   ],
   "source": [
    "rating_utility_matrix = amazon_ratings_1.pivot_table(values='Rating', index='UserId', columns='ProductId', fill_value=0)\n",
    "rating_utility_matrix.head(3)"
   ]
  },
  {
   "cell_type": "markdown",
   "id": "c5ba6a07",
   "metadata": {},
   "source": [
    "In the above, utility matrix is sparce, I have filled up\n",
    "the unknown values with 0 "
   ]
  },
  {
   "cell_type": "code",
   "execution_count": 81,
   "id": "9f3f64fd",
   "metadata": {},
   "outputs": [
    {
     "name": "stdout",
     "output_type": "stream",
     "text": [
      "(9697, 886)\n"
     ]
    }
   ],
   "source": [
    "print(rating_utility_matrix.shape)"
   ]
  },
  {
   "cell_type": "markdown",
   "id": "c05c5cd6",
   "metadata": {},
   "source": [
    "Taking Transposing the matrix"
   ]
  },
  {
   "cell_type": "code",
   "execution_count": 82,
   "id": "030a2f3a",
   "metadata": {},
   "outputs": [
    {
     "data": {
      "text/html": [
       "<div>\n",
       "<style scoped>\n",
       "    .dataframe tbody tr th:only-of-type {\n",
       "        vertical-align: middle;\n",
       "    }\n",
       "\n",
       "    .dataframe tbody tr th {\n",
       "        vertical-align: top;\n",
       "    }\n",
       "\n",
       "    .dataframe thead th {\n",
       "        text-align: right;\n",
       "    }\n",
       "</style>\n",
       "<table border=\"1\" class=\"dataframe\">\n",
       "  <thead>\n",
       "    <tr style=\"text-align: right;\">\n",
       "      <th>UserId</th>\n",
       "      <th>A00205921JHJK5X9LNP42</th>\n",
       "      <th>A024581134CV80ZBLIZTZ</th>\n",
       "      <th>A03056581JJIOL5FSKJY7</th>\n",
       "      <th>A03099101ZRK4K607JVHH</th>\n",
       "      <th>A0505229A7NSH3FRXRR4</th>\n",
       "      <th>A05492663T95KW63BR75K</th>\n",
       "      <th>A059547920Q3LZVFHLPI3</th>\n",
       "      <th>A07410232KYRFR25CIUGJ</th>\n",
       "      <th>A082796624UNM47DSAI6K</th>\n",
       "      <th>A0864963DOAY7LXGS5I6</th>\n",
       "      <th>...</th>\n",
       "      <th>AZW1HXXYAC15B</th>\n",
       "      <th>AZWRTJPN7NXT</th>\n",
       "      <th>AZWTXHXZXFAYP</th>\n",
       "      <th>AZYQEFB9Y5N22</th>\n",
       "      <th>AZZHB6U54UDYW</th>\n",
       "      <th>AZZHJZP4GQPPZ</th>\n",
       "      <th>AZZNK89PXD006</th>\n",
       "      <th>AZZOFVMQC0BJG</th>\n",
       "      <th>AZZQXL8VDCFTV</th>\n",
       "      <th>AZZTJQ7CQZUD8</th>\n",
       "    </tr>\n",
       "    <tr>\n",
       "      <th>ProductId</th>\n",
       "      <th></th>\n",
       "      <th></th>\n",
       "      <th></th>\n",
       "      <th></th>\n",
       "      <th></th>\n",
       "      <th></th>\n",
       "      <th></th>\n",
       "      <th></th>\n",
       "      <th></th>\n",
       "      <th></th>\n",
       "      <th></th>\n",
       "      <th></th>\n",
       "      <th></th>\n",
       "      <th></th>\n",
       "      <th></th>\n",
       "      <th></th>\n",
       "      <th></th>\n",
       "      <th></th>\n",
       "      <th></th>\n",
       "      <th></th>\n",
       "      <th></th>\n",
       "    </tr>\n",
       "  </thead>\n",
       "  <tbody>\n",
       "    <tr>\n",
       "      <th>0205616461</th>\n",
       "      <td>0</td>\n",
       "      <td>0</td>\n",
       "      <td>0</td>\n",
       "      <td>0</td>\n",
       "      <td>0</td>\n",
       "      <td>0</td>\n",
       "      <td>0</td>\n",
       "      <td>0</td>\n",
       "      <td>0</td>\n",
       "      <td>0</td>\n",
       "      <td>...</td>\n",
       "      <td>0</td>\n",
       "      <td>0</td>\n",
       "      <td>0</td>\n",
       "      <td>0</td>\n",
       "      <td>0</td>\n",
       "      <td>0</td>\n",
       "      <td>0</td>\n",
       "      <td>0</td>\n",
       "      <td>0</td>\n",
       "      <td>0</td>\n",
       "    </tr>\n",
       "    <tr>\n",
       "      <th>0558925278</th>\n",
       "      <td>0</td>\n",
       "      <td>0</td>\n",
       "      <td>0</td>\n",
       "      <td>0</td>\n",
       "      <td>0</td>\n",
       "      <td>0</td>\n",
       "      <td>0</td>\n",
       "      <td>0</td>\n",
       "      <td>0</td>\n",
       "      <td>0</td>\n",
       "      <td>...</td>\n",
       "      <td>0</td>\n",
       "      <td>0</td>\n",
       "      <td>0</td>\n",
       "      <td>0</td>\n",
       "      <td>0</td>\n",
       "      <td>0</td>\n",
       "      <td>0</td>\n",
       "      <td>0</td>\n",
       "      <td>0</td>\n",
       "      <td>0</td>\n",
       "    </tr>\n",
       "    <tr>\n",
       "      <th>0733001998</th>\n",
       "      <td>0</td>\n",
       "      <td>0</td>\n",
       "      <td>0</td>\n",
       "      <td>0</td>\n",
       "      <td>0</td>\n",
       "      <td>0</td>\n",
       "      <td>0</td>\n",
       "      <td>0</td>\n",
       "      <td>0</td>\n",
       "      <td>0</td>\n",
       "      <td>...</td>\n",
       "      <td>0</td>\n",
       "      <td>0</td>\n",
       "      <td>0</td>\n",
       "      <td>0</td>\n",
       "      <td>0</td>\n",
       "      <td>0</td>\n",
       "      <td>0</td>\n",
       "      <td>0</td>\n",
       "      <td>0</td>\n",
       "      <td>0</td>\n",
       "    </tr>\n",
       "  </tbody>\n",
       "</table>\n",
       "<p>3 rows × 9697 columns</p>\n",
       "</div>"
      ],
      "text/plain": [
       "UserId      A00205921JHJK5X9LNP42  A024581134CV80ZBLIZTZ  \\\n",
       "ProductId                                                  \n",
       "0205616461                      0                      0   \n",
       "0558925278                      0                      0   \n",
       "0733001998                      0                      0   \n",
       "\n",
       "UserId      A03056581JJIOL5FSKJY7  A03099101ZRK4K607JVHH  \\\n",
       "ProductId                                                  \n",
       "0205616461                      0                      0   \n",
       "0558925278                      0                      0   \n",
       "0733001998                      0                      0   \n",
       "\n",
       "UserId      A0505229A7NSH3FRXRR4  A05492663T95KW63BR75K  \\\n",
       "ProductId                                                 \n",
       "0205616461                     0                      0   \n",
       "0558925278                     0                      0   \n",
       "0733001998                     0                      0   \n",
       "\n",
       "UserId      A059547920Q3LZVFHLPI3  A07410232KYRFR25CIUGJ  \\\n",
       "ProductId                                                  \n",
       "0205616461                      0                      0   \n",
       "0558925278                      0                      0   \n",
       "0733001998                      0                      0   \n",
       "\n",
       "UserId      A082796624UNM47DSAI6K  A0864963DOAY7LXGS5I6  ...  AZW1HXXYAC15B  \\\n",
       "ProductId                                                ...                  \n",
       "0205616461                      0                     0  ...              0   \n",
       "0558925278                      0                     0  ...              0   \n",
       "0733001998                      0                     0  ...              0   \n",
       "\n",
       "UserId      AZWRTJPN7NXT  AZWTXHXZXFAYP  AZYQEFB9Y5N22  AZZHB6U54UDYW  \\\n",
       "ProductId                                                               \n",
       "0205616461             0              0              0              0   \n",
       "0558925278             0              0              0              0   \n",
       "0733001998             0              0              0              0   \n",
       "\n",
       "UserId      AZZHJZP4GQPPZ  AZZNK89PXD006  AZZOFVMQC0BJG  AZZQXL8VDCFTV  \\\n",
       "ProductId                                                                \n",
       "0205616461              0              0              0              0   \n",
       "0558925278              0              0              0              0   \n",
       "0733001998              0              0              0              0   \n",
       "\n",
       "UserId      AZZTJQ7CQZUD8  \n",
       "ProductId                  \n",
       "0205616461              0  \n",
       "0558925278              0  \n",
       "0733001998              0  \n",
       "\n",
       "[3 rows x 9697 columns]"
      ]
     },
     "execution_count": 82,
     "metadata": {},
     "output_type": "execute_result"
    }
   ],
   "source": [
    "X = rating_utility_matrix.T\n",
    "X.head(3)"
   ]
  },
  {
   "cell_type": "code",
   "execution_count": 83,
   "id": "901eb833",
   "metadata": {},
   "outputs": [
    {
     "name": "stdout",
     "output_type": "stream",
     "text": [
      "(886, 9697)\n"
     ]
    }
   ],
   "source": [
    "print(X.shape)"
   ]
  },
  {
   "cell_type": "markdown",
   "id": "bcc906f8",
   "metadata": {},
   "source": [
    "Unique products in subset of data"
   ]
  },
  {
   "cell_type": "code",
   "execution_count": 84,
   "id": "11f6f9b7",
   "metadata": {},
   "outputs": [],
   "source": [
    "X1 = X"
   ]
  },
  {
   "cell_type": "markdown",
   "id": "af795267",
   "metadata": {},
   "source": [
    "#### Decomposing the Metrix"
   ]
  },
  {
   "cell_type": "code",
   "execution_count": 85,
   "id": "419fadbf",
   "metadata": {},
   "outputs": [],
   "source": [
    "import sklearn\n",
    "from sklearn.decomposition import TruncatedSVD"
   ]
  },
  {
   "cell_type": "code",
   "execution_count": 86,
   "id": "78cfb46f",
   "metadata": {},
   "outputs": [
    {
     "name": "stdout",
     "output_type": "stream",
     "text": [
      "(886, 10)\n"
     ]
    }
   ],
   "source": [
    "svd = TruncatedSVD(n_components=10)\n",
    "decomposed_matrix = svd.fit_transform(X)\n",
    "print(decomposed_matrix.shape)"
   ]
  },
  {
   "cell_type": "markdown",
   "id": "b55c5a4c",
   "metadata": {},
   "source": [
    "#### Correlation Matrix"
   ]
  },
  {
   "cell_type": "code",
   "execution_count": 87,
   "id": "1c34fb16",
   "metadata": {},
   "outputs": [
    {
     "name": "stdout",
     "output_type": "stream",
     "text": [
      "(886, 886)\n"
     ]
    }
   ],
   "source": [
    "correlation_matrix = np.corrcoef(decomposed_matrix)\n",
    "print(correlation_matrix.shape)"
   ]
  },
  {
   "cell_type": "markdown",
   "id": "11b758ef",
   "metadata": {},
   "source": [
    "### Isolating Product ID #6117036094 from the correlation matrix\n",
    "\n",
    "Assuming the customer buys Products ID #6117036094 (randomly chosen)"
   ]
  },
  {
   "cell_type": "code",
   "execution_count": 88,
   "id": "38b291c4",
   "metadata": {},
   "outputs": [
    {
     "data": {
      "text/plain": [
       "'6117036094'"
      ]
     },
     "execution_count": 88,
     "metadata": {},
     "output_type": "execute_result"
    }
   ],
   "source": [
    "X.index[99]"
   ]
  },
  {
   "cell_type": "markdown",
   "id": "9d587dca",
   "metadata": {},
   "source": [
    "Index # of product ID purchased by customer"
   ]
  },
  {
   "cell_type": "code",
   "execution_count": 89,
   "id": "2806b42c",
   "metadata": {},
   "outputs": [
    {
     "name": "stdout",
     "output_type": "stream",
     "text": [
      "99\n"
     ]
    }
   ],
   "source": [
    "i = \"6117036094\"\n",
    "\n",
    "product_names = list(X.index)\n",
    "product_ID  = product_names.index(i)\n",
    "print(product_ID)"
   ]
  },
  {
   "cell_type": "markdown",
   "id": "937b8cbe",
   "metadata": {},
   "source": [
    "correlation for all items with the item purchased by this \n",
    "customer based on items rated by other customers people \n",
    "who bought the same product"
   ]
  },
  {
   "cell_type": "code",
   "execution_count": 90,
   "id": "5540e0b8",
   "metadata": {},
   "outputs": [
    {
     "name": "stdout",
     "output_type": "stream",
     "text": [
      "(886,)\n"
     ]
    }
   ],
   "source": [
    "correlation_product_ID = correlation_matrix[product_ID]\n",
    "print(correlation_product_ID.shape)"
   ]
  },
  {
   "cell_type": "markdown",
   "id": "f74ee14b",
   "metadata": {},
   "source": [
    "#### Recommending top 10 highly correlated products in sequence"
   ]
  },
  {
   "cell_type": "code",
   "execution_count": 91,
   "id": "3c0328f3",
   "metadata": {},
   "outputs": [
    {
     "data": {
      "text/plain": [
       "['1304482596',\n",
       " '1304495396',\n",
       " '535795545X',\n",
       " '602260074X',\n",
       " '6022600812',\n",
       " '6162071103',\n",
       " '6175005589',\n",
       " '9509369934',\n",
       " '951311290X']"
      ]
     },
     "execution_count": 91,
     "metadata": {},
     "output_type": "execute_result"
    }
   ],
   "source": [
    "recommend = list(X.index[correlation_product_ID > 0.90])\n",
    "\n",
    "# Remove the item already bought by the customer\n",
    "recommend.remove(i)\n",
    "\n",
    "recommend[:9]"
   ]
  },
  {
   "cell_type": "markdown",
   "id": "aa029dd5",
   "metadata": {},
   "source": [
    "Here are the top 10 products to be displayed by the \n",
    "recommendation system to the above customer based on the \n",
    "purchase history of other customers in the website."
   ]
  },
  {
   "cell_type": "markdown",
   "id": "19b59644",
   "metadata": {},
   "source": [
    "### **Recommendation System Part - III**\n",
    "\n",
    "For a business without any user-item purchase history, a search engine based recommendation system can be designed for users. The product recommendations can be based on textual clustering analysis given in product description. \n",
    "\n",
    "**Item-to-Item based recommendation system based on product description**\n",
    "\n",
    "Applicable when business is setting up its E-Commerce website for the first time"
   ]
  },
  {
   "cell_type": "code",
   "execution_count": 92,
   "id": "831bfbd6",
   "metadata": {},
   "outputs": [
    {
     "data": {
      "text/html": [
       "<div>\n",
       "<style scoped>\n",
       "    .dataframe tbody tr th:only-of-type {\n",
       "        vertical-align: middle;\n",
       "    }\n",
       "\n",
       "    .dataframe tbody tr th {\n",
       "        vertical-align: top;\n",
       "    }\n",
       "\n",
       "    .dataframe thead th {\n",
       "        text-align: right;\n",
       "    }\n",
       "</style>\n",
       "<table border=\"1\" class=\"dataframe\">\n",
       "  <thead>\n",
       "    <tr style=\"text-align: right;\">\n",
       "      <th></th>\n",
       "      <th>product_uid</th>\n",
       "      <th>product_description</th>\n",
       "    </tr>\n",
       "  </thead>\n",
       "  <tbody>\n",
       "    <tr>\n",
       "      <th>0</th>\n",
       "      <td>100001</td>\n",
       "      <td>Not only do angles make joints stronger, they ...</td>\n",
       "    </tr>\n",
       "    <tr>\n",
       "      <th>1</th>\n",
       "      <td>100002</td>\n",
       "      <td>BEHR Premium Textured DECKOVER is an innovativ...</td>\n",
       "    </tr>\n",
       "  </tbody>\n",
       "</table>\n",
       "</div>"
      ],
      "text/plain": [
       "   product_uid                                product_description\n",
       "0       100001  Not only do angles make joints stronger, they ...\n",
       "1       100002  BEHR Premium Textured DECKOVER is an innovativ..."
      ]
     },
     "execution_count": 92,
     "metadata": {},
     "output_type": "execute_result"
    }
   ],
   "source": [
    "product_descriptions = pd.read_csv(\"product_descriptions.csv\")\n",
    "product_descriptions.head(2)"
   ]
  },
  {
   "cell_type": "code",
   "execution_count": 93,
   "id": "67990cc0",
   "metadata": {},
   "outputs": [
    {
     "name": "stdout",
     "output_type": "stream",
     "text": [
      "<class 'pandas.core.frame.DataFrame'>\n",
      "RangeIndex: 124428 entries, 0 to 124427\n",
      "Data columns (total 2 columns):\n",
      " #   Column               Non-Null Count   Dtype \n",
      "---  ------               --------------   ----- \n",
      " 0   product_uid          124428 non-null  int64 \n",
      " 1   product_description  124428 non-null  object\n",
      "dtypes: int64(1), object(1)\n",
      "memory usage: 1.9+ MB\n"
     ]
    }
   ],
   "source": [
    "product_descriptions.info()"
   ]
  },
  {
   "cell_type": "code",
   "execution_count": 94,
   "id": "d74cd845",
   "metadata": {},
   "outputs": [
    {
     "data": {
      "text/plain": [
       "product_uid            0\n",
       "product_description    0\n",
       "dtype: int64"
      ]
     },
     "execution_count": 94,
     "metadata": {},
     "output_type": "execute_result"
    }
   ],
   "source": [
    "product_descriptions.isnull().sum()"
   ]
  },
  {
   "cell_type": "code",
   "execution_count": 95,
   "id": "d638a7ee",
   "metadata": {},
   "outputs": [
    {
     "name": "stdout",
     "output_type": "stream",
     "text": [
      "(124428, 2)\n"
     ]
    }
   ],
   "source": [
    "print(product_descriptions.shape)"
   ]
  },
  {
   "cell_type": "markdown",
   "id": "9e8967d0",
   "metadata": {},
   "source": [
    "**Feature extraction from product descriptions**\n",
    "\n",
    "Converting the text in product description into numerical data for analysis"
   ]
  },
  {
   "cell_type": "code",
   "execution_count": 96,
   "id": "add830de",
   "metadata": {},
   "outputs": [],
   "source": [
    "from sklearn.feature_extraction.text import TfidfVectorizer, CountVectorizer\n",
    "from sklearn.neighbors import NearestNeighbors\n",
    "from sklearn.cluster import KMeans\n",
    "from sklearn.metrics import adjusted_rand_score"
   ]
  },
  {
   "cell_type": "code",
   "execution_count": 97,
   "id": "2ec0e99b",
   "metadata": {},
   "outputs": [
    {
     "name": "stdout",
     "output_type": "stream",
     "text": [
      "(124428, 268559)\n"
     ]
    }
   ],
   "source": [
    "vectorizer = TfidfVectorizer(stop_words='english')\n",
    "X1 = vectorizer.fit_transform(product_descriptions['product_description'])\n",
    "print(X1.shape)"
   ]
  },
  {
   "cell_type": "markdown",
   "id": "52f56e5d",
   "metadata": {},
   "source": [
    "**Visualizing product clusters in subsets of data**"
   ]
  },
  {
   "cell_type": "code",
   "execution_count": 98,
   "id": "431f9a10",
   "metadata": {},
   "outputs": [
    {
     "data": {
      "image/png": "[encoded data removed]",
      "text/plain": [
       "<Figure size 432x288 with 1 Axes>"
      ]
     },
     "metadata": {
      "needs_background": "light"
     },
     "output_type": "display_data"
    }
   ],
   "source": [
    "# Finding K-Means to the dataset\n",
    "\n",
    "X = X1\n",
    "kmeans = KMeans(n_clusters = 10, init = 'k-means++')\n",
    "y_kmeans = kmeans.fit_predict(X)\n",
    "plt.plot(y_kmeans, \".\")\n",
    "plt.show()"
   ]
  },
  {
   "cell_type": "markdown",
   "id": "1c36b3ff",
   "metadata": {},
   "source": [
    "# Output\n",
    "\n",
    "Recommendation of product based on the current product selected by user.\n",
    "\n",
    "To recommend related product based on, Frequently bought together.\n",
    "\n",
    "**Top words in each cluster based on product description**"
   ]
  },
  {
   "cell_type": "code",
   "execution_count": 99,
   "id": "76832a54",
   "metadata": {},
   "outputs": [],
   "source": [
    "def print_cluster(i,order_centroids,terms,true_k):\n",
    "    print(\"Cluster %d:\" % (int(i)+1))\n",
    "    for idk in order_centroids[i, :true_k]:\n",
    "        print(\" %s\" % terms[idk])\n",
    "    print()"
   ]
  },
  {
   "cell_type": "code",
   "execution_count": 100,
   "id": "3338a0eb",
   "metadata": {},
   "outputs": [
    {
     "name": "stdout",
     "output_type": "stream",
     "text": [
      "Top terms per cluster: \n",
      "Cluster 1:\n",
      " easy\n",
      " use\n",
      " ft\n",
      " steel\n",
      " home\n",
      " wood\n",
      " design\n",
      " used\n",
      " water\n",
      " installation\n",
      "\n",
      "Cluster 2:\n",
      " cutting\n",
      " blade\n",
      " steel\n",
      " head\n",
      " tool\n",
      " screws\n",
      " drive\n",
      " bit\n",
      " metal\n",
      " drill\n",
      "\n",
      "Cluster 3:\n",
      " door\n",
      " doors\n",
      " glass\n",
      " panel\n",
      " steel\n",
      " shower\n",
      " hardware\n",
      " hinges\n",
      " security\n",
      " installation\n",
      "\n",
      "Cluster 4:\n",
      " paint\n",
      " vary\n",
      " rug\n",
      " colors\n",
      " color\n",
      " gloss\n",
      " slightly\n",
      " wood\n",
      " mn\n",
      " ri\n",
      "\n",
      "Cluster 5:\n",
      " light\n",
      " watt\n",
      " bulb\n",
      " led\n",
      " energy\n",
      " lighting\n",
      " bulbs\n",
      " fixture\n",
      " incandescent\n",
      " glass\n",
      "\n",
      "Cluster 6:\n",
      " fan\n",
      " oven\n",
      " cooking\n",
      " air\n",
      " cu\n",
      " freezer\n",
      " temperature\n",
      " ft\n",
      " ceiling\n",
      " control\n",
      "\n",
      "Cluster 7:\n",
      " tile\n",
      " indoor\n",
      " residential\n",
      " recommended\n",
      " thinset\n",
      " frost\n",
      " piece\n",
      " pieces\n",
      " wall\n",
      " commercial\n",
      "\n",
      "Cluster 8:\n",
      " cabinet\n",
      " vanity\n",
      " sink\n",
      " faucet\n",
      " drawer\n",
      " storage\n",
      " kitchen\n",
      " bathroom\n",
      " finish\n",
      " mount\n",
      "\n",
      "Cluster 9:\n",
      " pipe\n",
      " pvc\n",
      " water\n",
      " pressure\n",
      " fittings\n",
      " sch\n",
      " fitting\n",
      " 40\n",
      " valve\n",
      " psi\n",
      "\n",
      "Cluster 10:\n",
      " shower\n",
      " faucet\n",
      " water\n",
      " tub\n",
      " handle\n",
      " valve\n",
      " watersense\n",
      " spout\n",
      " spray\n",
      " brass\n",
      "\n"
     ]
    },
    {
     "name": "stderr",
     "output_type": "stream",
     "text": [
      "C:\\Users\\Dipankar Porey\\anaconda3\\envs\\tensorflow_env\\lib\\site-packages\\sklearn\\utils\\deprecation.py:87: FutureWarning: Function get_feature_names is deprecated; get_feature_names is deprecated in 1.0 and will be removed in 1.2. Please use get_feature_names_out instead.\n",
      "  warnings.warn(msg, category=FutureWarning)\n"
     ]
    }
   ],
   "source": [
    "# Optimal Cluster is\n",
    "\n",
    "true_k=10\n",
    "\n",
    "model = KMeans(n_clusters=true_k, init='k-means++', max_iter = 100, n_init=1)\n",
    "model.fit(X1)\n",
    "\n",
    "print('Top terms per cluster: ')\n",
    "order_centroids = model.cluster_centers_.argsort()[:, ::-1]\n",
    "terms = vectorizer.get_feature_names()\n",
    "for i in range(true_k):\n",
    "    print_cluster(i,order_centroids,terms,true_k)"
   ]
  },
  {
   "cell_type": "markdown",
   "id": "c53ec645",
   "metadata": {},
   "source": [
    "**Predicting clusters based on key search words**"
   ]
  },
  {
   "cell_type": "code",
   "execution_count": 101,
   "id": "84180b9b",
   "metadata": {},
   "outputs": [],
   "source": [
    "def show_recommendations(product, vectorizer, model):\n",
    "    # print(\"cluster ID:\")\n",
    "    Y = vectorizer.transform([product])\n",
    "    prediction = model.predict(Y)\n",
    "    # print(prediction)\n",
    "    print_cluster(prediction[0],order_centroids,terms,true_k)"
   ]
  },
  {
   "cell_type": "code",
   "execution_count": 102,
   "id": "2c24034b",
   "metadata": {},
   "outputs": [
    {
     "name": "stdout",
     "output_type": "stream",
     "text": [
      "Cluster 2:\n",
      " cutting\n",
      " blade\n",
      " steel\n",
      " head\n",
      " tool\n",
      " screws\n",
      " drive\n",
      " bit\n",
      " metal\n",
      " drill\n",
      "\n"
     ]
    }
   ],
   "source": [
    "key_word = \"cutting tool\"\n",
    "show_recommendations(key_word, vectorizer, model)"
   ]
  },
  {
   "cell_type": "code",
   "execution_count": 103,
   "id": "1f3f3092",
   "metadata": {},
   "outputs": [
    {
     "name": "stdout",
     "output_type": "stream",
     "text": [
      "Cluster 4:\n",
      " paint\n",
      " vary\n",
      " rug\n",
      " colors\n",
      " color\n",
      " gloss\n",
      " slightly\n",
      " wood\n",
      " mn\n",
      " ri\n",
      "\n"
     ]
    }
   ],
   "source": [
    "key_word = \"spray paint\"\n",
    "show_recommendations(key_word, vectorizer, model)"
   ]
  },
  {
   "cell_type": "code",
   "execution_count": 104,
   "id": "7232bf92",
   "metadata": {},
   "outputs": [
    {
     "name": "stdout",
     "output_type": "stream",
     "text": [
      "Cluster 2:\n",
      " cutting\n",
      " blade\n",
      " steel\n",
      " head\n",
      " tool\n",
      " screws\n",
      " drive\n",
      " bit\n",
      " metal\n",
      " drill\n",
      "\n"
     ]
    }
   ],
   "source": [
    "key_word = \"steel drill\"\n",
    "show_recommendations(key_word, vectorizer, model)"
   ]
  },
  {
   "cell_type": "code",
   "execution_count": 105,
   "id": "5781ac63",
   "metadata": {},
   "outputs": [
    {
     "name": "stdout",
     "output_type": "stream",
     "text": [
      "Cluster 9:\n",
      " pipe\n",
      " pvc\n",
      " water\n",
      " pressure\n",
      " fittings\n",
      " sch\n",
      " fitting\n",
      " 40\n",
      " valve\n",
      " psi\n",
      "\n"
     ]
    }
   ],
   "source": [
    "key_word = \"water\"\n",
    "show_recommendations(key_word, vectorizer, model)"
   ]
  },
  {
   "cell_type": "markdown",
   "id": "2580e356",
   "metadata": {},
   "source": [
    "In case a word appears in multiple clusters, the algorithm \n",
    "chooses the cluster with the highest frequency of occurance of the word.\n",
    "\n",
    "Once a cluster is identified based on the user's search words, the recommendation system can display items from the corresponding product clusters based on the product\n",
    "descriptions."
   ]
  },
  {
   "cell_type": "markdown",
   "id": "57e8784c",
   "metadata": {},
   "source": [
    "**Summary**"
   ]
  },
  {
   "cell_type": "markdown",
   "id": "36ca3afc",
   "metadata": {},
   "source": [
    "This works best if a business is setting up its e-commerce \n",
    "website for the first time and does not have user-item \n",
    "purchase/rating history to start with initially. This \n",
    "recommendation system will help the users get a good \n",
    "recommendation to start with and once the buyers have a\n",
    "purchased history, the recommendation engine can use the \n",
    "model based collaborative filtering engine."
   ]
  },
  {
   "cell_type": "markdown",
   "id": "fad8aae8",
   "metadata": {},
   "source": [
    "**END**"
   ]
  }
 ],
 "metadata": {
  "kernelspec": {
   "display_name": "Python 3 (ipykernel)",
   "language": "python",
   "name": "python3"
  },
  "language_info": {
   "codemirror_mode": {
    "name": "ipython",
    "version": 3
   },
   "file_extension": ".py",
   "mimetype": "text/x-python",
   "name": "python",
   "nbconvert_exporter": "python",
   "pygments_lexer": "ipython3",
   "version": "3.9.12"
  }
 },
 "nbformat": 4,
 "nbformat_minor": 5
}
